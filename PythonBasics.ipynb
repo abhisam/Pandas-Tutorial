{
  "nbformat": 4,
  "nbformat_minor": 0,
  "metadata": {
    "colab": {
      "name": "PythonBasics.ipynb",
      "version": "0.3.2",
      "provenance": [],
      "collapsed_sections": [],
      "include_colab_link": true
    },
    "kernelspec": {
      "name": "python3",
      "display_name": "Python 3"
    }
  },
  "cells": [
    {
      "cell_type": "markdown",
      "metadata": {
        "id": "view-in-github",
        "colab_type": "text"
      },
      "source": [
        "<a href=\"https://colab.research.google.com/github/abhisam/Pandas-Tutorial/blob/master/PythonBasics.ipynb\" target=\"_parent\"><img src=\"https://colab.research.google.com/assets/colab-badge.svg\" alt=\"Open In Colab\"/></a>"
      ]
    },
    {
      "metadata": {
        "id": "T3q6CXeYAauv",
        "colab_type": "text"
      },
      "cell_type": "markdown",
      "source": [
        "#Data Types"
      ]
    },
    {
      "metadata": {
        "id": "Z1R525Ci_8dq",
        "colab_type": "code",
        "colab": {}
      },
      "cell_type": "code",
      "source": [
        "greeting = \"Hello World\""
      ],
      "execution_count": 0,
      "outputs": []
    },
    {
      "metadata": {
        "id": "tNoSjxe2AEhH",
        "colab_type": "code",
        "outputId": "9c699708-f8c7-401d-ce93-c47c7f3ad67c",
        "colab": {
          "base_uri": "https://localhost:8080/"
        }
      },
      "cell_type": "code",
      "source": [
        "type(greeting)"
      ],
      "execution_count": 2,
      "outputs": [
        {
          "output_type": "execute_result",
          "data": {
            "text/plain": [
              "str"
            ]
          },
          "metadata": {
            "tags": []
          },
          "execution_count": 2
        }
      ]
    },
    {
      "metadata": {
        "id": "hKvFXqypAHur",
        "colab_type": "code",
        "colab": {}
      },
      "cell_type": "code",
      "source": [
        "pi_value = 3.14 "
      ],
      "execution_count": 0,
      "outputs": []
    },
    {
      "metadata": {
        "id": "SnBoe7BhAmnO",
        "colab_type": "code",
        "outputId": "0074cbde-4943-4144-9e6e-22c0de54c044",
        "colab": {
          "base_uri": "https://localhost:8080/"
        }
      },
      "cell_type": "code",
      "source": [
        "type(pi_value)"
      ],
      "execution_count": 4,
      "outputs": [
        {
          "output_type": "execute_result",
          "data": {
            "text/plain": [
              "float"
            ]
          },
          "metadata": {
            "tags": []
          },
          "execution_count": 4
        }
      ]
    },
    {
      "metadata": {
        "id": "XjOuYzZfAuDl",
        "colab_type": "code",
        "colab": {}
      },
      "cell_type": "code",
      "source": [
        "area = 1"
      ],
      "execution_count": 0,
      "outputs": []
    },
    {
      "metadata": {
        "id": "7u7ssvxkA0Dp",
        "colab_type": "code",
        "outputId": "11e7dd02-b333-4dc7-c7cd-ab4feafb72f2",
        "colab": {
          "base_uri": "https://localhost:8080/"
        }
      },
      "cell_type": "code",
      "source": [
        "type(area)"
      ],
      "execution_count": 6,
      "outputs": [
        {
          "output_type": "execute_result",
          "data": {
            "text/plain": [
              "int"
            ]
          },
          "metadata": {
            "tags": []
          },
          "execution_count": 6
        }
      ]
    },
    {
      "metadata": {
        "id": "UqVbrb4sAgKn",
        "colab_type": "code",
        "outputId": "668be93d-431b-471e-f98d-70a71dffbed7",
        "colab": {
          "base_uri": "https://localhost:8080/"
        }
      },
      "cell_type": "code",
      "source": [
        "print(\"printing \" + greeting)"
      ],
      "execution_count": 7,
      "outputs": [
        {
          "output_type": "stream",
          "text": [
            "printing Hello World\n"
          ],
          "name": "stdout"
        }
      ]
    },
    {
      "metadata": {
        "id": "Sx6c_X2SBUPW",
        "colab_type": "code",
        "outputId": "b031d246-9c53-486b-95a0-6d06616cc3e3",
        "colab": {
          "base_uri": "https://localhost:8080/"
        }
      },
      "cell_type": "code",
      "source": [
        "print(\"PI value is \" + str(pi_value))"
      ],
      "execution_count": 8,
      "outputs": [
        {
          "output_type": "stream",
          "text": [
            "PI value is 3.14\n"
          ],
          "name": "stdout"
        }
      ]
    },
    {
      "metadata": {
        "id": "vyI85170Bhu6",
        "colab_type": "code",
        "outputId": "30e501dc-6c52-485b-9cca-4ad3c5a4a098",
        "colab": {
          "base_uri": "https://localhost:8080/"
        }
      },
      "cell_type": "code",
      "source": [
        "print(\"Area is \" + str(area))"
      ],
      "execution_count": 9,
      "outputs": [
        {
          "output_type": "stream",
          "text": [
            "Area is 1\n"
          ],
          "name": "stdout"
        }
      ]
    },
    {
      "metadata": {
        "id": "Gs9dTnKqBoY-",
        "colab_type": "code",
        "outputId": "ea63d55d-d2cc-484c-90e9-39d6c46f70f7",
        "colab": {
          "base_uri": "https://localhost:8080/"
        }
      },
      "cell_type": "code",
      "source": [
        "a = 5\n",
        "b = 2\n",
        "\n",
        "print(\"addition of a+b is \" + str(a + b))\n",
        "print(\"subtraction  of a-b is \" + str(a-b))\n",
        "print(\"division of a/b is \" + str(a/b))\n",
        "print(\"integer division of a // b is \" + str(a//b))\n",
        "print(\"exponetial of a**b is \" +  str(a**b))\n",
        "print(\"multiplication of a**b is \" + str(a**b))\n",
        "\n"
      ],
      "execution_count": 10,
      "outputs": [
        {
          "output_type": "stream",
          "text": [
            "addition of a+b is 7\n",
            "subtraction  of a-b is 3\n",
            "division of a/b is 2.5\n",
            "integer division of a // b is 2\n",
            "exponetial of a**b is 25\n",
            "multiplication of a**b is 25\n"
          ],
          "name": "stdout"
        }
      ]
    },
    {
      "metadata": {
        "id": "Kkttsl5ZDCn9",
        "colab_type": "code",
        "colab": {}
      },
      "cell_type": "code",
      "source": [
        "is_it_true = False"
      ],
      "execution_count": 0,
      "outputs": []
    },
    {
      "metadata": {
        "id": "9--n8a5_DbgW",
        "colab_type": "code",
        "outputId": "4459e4fb-96fc-47ff-b22e-6320cd84ad01",
        "colab": {
          "base_uri": "https://localhost:8080/"
        }
      },
      "cell_type": "code",
      "source": [
        "type(is_it_true)"
      ],
      "execution_count": 12,
      "outputs": [
        {
          "output_type": "execute_result",
          "data": {
            "text/plain": [
              "bool"
            ]
          },
          "metadata": {
            "tags": []
          },
          "execution_count": 12
        }
      ]
    },
    {
      "metadata": {
        "id": "QJ9LZJELE2DC",
        "colab_type": "code",
        "outputId": "cf2c8006-5300-4b9f-d546-99ce46dd738d",
        "colab": {
          "base_uri": "https://localhost:8080/"
        }
      },
      "cell_type": "code",
      "source": [
        "print(not is_it_true)\n"
      ],
      "execution_count": 13,
      "outputs": [
        {
          "output_type": "stream",
          "text": [
            "True\n"
          ],
          "name": "stdout"
        }
      ]
    },
    {
      "metadata": {
        "id": "2UoQpP49DcWU",
        "colab_type": "code",
        "outputId": "af1a3c9b-c993-4ea1-e457-dfedb3049a41",
        "colab": {
          "base_uri": "https://localhost:8080/"
        }
      },
      "cell_type": "code",
      "source": [
        "if is_it_true != False:\n",
        "  print(\"it is not true\")\n",
        "else:\n",
        "  print(\"it is true\")"
      ],
      "execution_count": 14,
      "outputs": [
        {
          "output_type": "stream",
          "text": [
            "it is true\n"
          ],
          "name": "stdout"
        }
      ]
    },
    {
      "metadata": {
        "id": "aO5VTlOFHLCO",
        "colab_type": "code",
        "outputId": "3288bf7b-6096-4724-cd4f-0336b646e82f",
        "colab": {
          "base_uri": "https://localhost:8080/"
        }
      },
      "cell_type": "code",
      "source": [
        "for i in range(10):\n",
        "  print(i , i**2)"
      ],
      "execution_count": 15,
      "outputs": [
        {
          "output_type": "stream",
          "text": [
            "0 0\n",
            "1 1\n",
            "2 4\n",
            "3 9\n",
            "4 16\n",
            "5 25\n",
            "6 36\n",
            "7 49\n",
            "8 64\n",
            "9 81\n"
          ],
          "name": "stdout"
        }
      ]
    },
    {
      "metadata": {
        "id": "KaM7uD8zHXBR",
        "colab_type": "code",
        "outputId": "6d2ea7bf-f957-4766-ba9b-c21fe9054070",
        "colab": {
          "base_uri": "https://localhost:8080/"
        }
      },
      "cell_type": "code",
      "source": [
        "j = 0\n",
        "while(j < 10):\n",
        "  print(j , j**2)\n",
        "  j += 1 # equivalent to i = i+1"
      ],
      "execution_count": 16,
      "outputs": [
        {
          "output_type": "stream",
          "text": [
            "0 0\n",
            "1 1\n",
            "2 4\n",
            "3 9\n",
            "4 16\n",
            "5 25\n",
            "6 36\n",
            "7 49\n",
            "8 64\n",
            "9 81\n"
          ],
          "name": "stdout"
        }
      ]
    },
    {
      "metadata": {
        "id": "ygusvRNtIBtb",
        "colab_type": "text"
      },
      "cell_type": "markdown",
      "source": [
        "# Functions"
      ]
    },
    {
      "metadata": {
        "id": "inhmF8FYIDV6",
        "colab_type": "code",
        "colab": {}
      },
      "cell_type": "code",
      "source": [
        "def print_squares(num):\n",
        "  for i in range(num):\n",
        "    print(i , i**2)"
      ],
      "execution_count": 0,
      "outputs": []
    },
    {
      "metadata": {
        "id": "ok6W0g_0IcO_",
        "colab_type": "code",
        "outputId": "416631c3-5d72-4f5a-e6d8-c4a3349861d3",
        "colab": {
          "base_uri": "https://localhost:8080/"
        }
      },
      "cell_type": "code",
      "source": [
        "print_squares(10)"
      ],
      "execution_count": 18,
      "outputs": [
        {
          "output_type": "stream",
          "text": [
            "0 0\n",
            "1 1\n",
            "2 4\n",
            "3 9\n",
            "4 16\n",
            "5 25\n",
            "6 36\n",
            "7 49\n",
            "8 64\n",
            "9 81\n"
          ],
          "name": "stdout"
        }
      ]
    },
    {
      "metadata": {
        "id": "TJhfCcZgIogJ",
        "colab_type": "code",
        "outputId": "149da1d2-7fc3-4c1a-dee6-9927e6f44c7d",
        "colab": {
          "base_uri": "https://localhost:8080/"
        }
      },
      "cell_type": "code",
      "source": [
        "print_squares(3)"
      ],
      "execution_count": 19,
      "outputs": [
        {
          "output_type": "stream",
          "text": [
            "0 0\n",
            "1 1\n",
            "2 4\n"
          ],
          "name": "stdout"
        }
      ]
    },
    {
      "metadata": {
        "id": "_pf8VDE4JllA",
        "colab_type": "code",
        "colab": {}
      },
      "cell_type": "code",
      "source": [
        "def sum_of_squares(num):\n",
        "  sum = 0\n",
        "  for i in range(num):\n",
        "    sum += i**2\n",
        "  return sum"
      ],
      "execution_count": 0,
      "outputs": []
    },
    {
      "metadata": {
        "id": "UrYfIL1HKCC2",
        "colab_type": "code",
        "outputId": "a288c64d-53f7-4f44-e4b1-baf1b771bea9",
        "colab": {
          "base_uri": "https://localhost:8080/"
        }
      },
      "cell_type": "code",
      "source": [
        "sum_of_squares(5)"
      ],
      "execution_count": 21,
      "outputs": [
        {
          "output_type": "execute_result",
          "data": {
            "text/plain": [
              "30"
            ]
          },
          "metadata": {
            "tags": []
          },
          "execution_count": 21
        }
      ]
    },
    {
      "metadata": {
        "id": "NUO1ErLAKsi6",
        "colab_type": "code",
        "colab": {}
      },
      "cell_type": "code",
      "source": [
        "def sum_of_squares_with_start(end, start = 0):\n",
        "  \"\"\" prints squares from start and end values\"\"\"\n",
        "  sum = 0\n",
        "  for i in range(start,end):\n",
        "    print(i , i**2)\n",
        "    sum+= i**2\n",
        "  return sum"
      ],
      "execution_count": 0,
      "outputs": []
    },
    {
      "metadata": {
        "id": "CYkOopveLYqb",
        "colab_type": "code",
        "outputId": "17cf7ee1-f229-496d-acdc-0d24dce1ae3d",
        "colab": {
          "base_uri": "https://localhost:8080/"
        }
      },
      "cell_type": "code",
      "source": [
        "sum_of_squares_with_start(5)"
      ],
      "execution_count": 23,
      "outputs": [
        {
          "output_type": "stream",
          "text": [
            "0 0\n",
            "1 1\n",
            "2 4\n",
            "3 9\n",
            "4 16\n"
          ],
          "name": "stdout"
        },
        {
          "output_type": "execute_result",
          "data": {
            "text/plain": [
              "30"
            ]
          },
          "metadata": {
            "tags": []
          },
          "execution_count": 23
        }
      ]
    },
    {
      "metadata": {
        "id": "qzs1xmfbLdow",
        "colab_type": "code",
        "outputId": "f03f12ff-ca2d-4e45-820d-fa406f01a30b",
        "colab": {
          "base_uri": "https://localhost:8080/"
        }
      },
      "cell_type": "code",
      "source": [
        "sum_of_squares_with_start(10,5)"
      ],
      "execution_count": 24,
      "outputs": [
        {
          "output_type": "stream",
          "text": [
            "5 25\n",
            "6 36\n",
            "7 49\n",
            "8 64\n",
            "9 81\n"
          ],
          "name": "stdout"
        },
        {
          "output_type": "execute_result",
          "data": {
            "text/plain": [
              "255"
            ]
          },
          "metadata": {
            "tags": []
          },
          "execution_count": 24
        }
      ]
    },
    {
      "metadata": {
        "id": "meQ4V6ZlNXaN",
        "colab_type": "text"
      },
      "cell_type": "markdown",
      "source": [
        "# Lists"
      ]
    },
    {
      "metadata": {
        "id": "B5nB55RONZQe",
        "colab_type": "code",
        "colab": {
          "base_uri": "https://localhost:8080/"
        },
        "outputId": "9709507a-0633-469f-ef7c-a203075e498e"
      },
      "cell_type": "code",
      "source": [
        "sample_list = [a,b, pi_value, area, greeting]\n",
        "sample_list"
      ],
      "execution_count": 25,
      "outputs": [
        {
          "output_type": "execute_result",
          "data": {
            "text/plain": [
              "[5, 2, 3.14, 1, 'Hello World']"
            ]
          },
          "metadata": {
            "tags": []
          },
          "execution_count": 25
        }
      ]
    },
    {
      "metadata": {
        "id": "EsE2VYfrNzuF",
        "colab_type": "code",
        "colab": {
          "base_uri": "https://localhost:8080/"
        },
        "outputId": "fa204ad1-2105-4d4c-dfe8-ad1cc6e61130"
      },
      "cell_type": "code",
      "source": [
        "type(sample_list)"
      ],
      "execution_count": 26,
      "outputs": [
        {
          "output_type": "execute_result",
          "data": {
            "text/plain": [
              "list"
            ]
          },
          "metadata": {
            "tags": []
          },
          "execution_count": 26
        }
      ]
    },
    {
      "metadata": {
        "id": "fiZ2Z4_HN6vy",
        "colab_type": "code",
        "colab": {
          "base_uri": "https://localhost:8080/"
        },
        "outputId": "d8977ab9-82a6-498f-c397-a74821cc61ca"
      },
      "cell_type": "code",
      "source": [
        "print(sample_list)"
      ],
      "execution_count": 27,
      "outputs": [
        {
          "output_type": "stream",
          "text": [
            "[5, 2, 3.14, 1, 'Hello World']\n"
          ],
          "name": "stdout"
        }
      ]
    },
    {
      "metadata": {
        "id": "O7zLMI1MOFMi",
        "colab_type": "text"
      },
      "cell_type": "markdown",
      "source": [
        "####indexing list"
      ]
    },
    {
      "metadata": {
        "id": "OIwzRZzyOK8J",
        "colab_type": "code",
        "colab": {
          "base_uri": "https://localhost:8080/"
        },
        "outputId": "8a18795e-91da-4af8-9b14-ab6ba39cd335"
      },
      "cell_type": "code",
      "source": [
        "sample_list[0]"
      ],
      "execution_count": 28,
      "outputs": [
        {
          "output_type": "execute_result",
          "data": {
            "text/plain": [
              "5"
            ]
          },
          "metadata": {
            "tags": []
          },
          "execution_count": 28
        }
      ]
    },
    {
      "metadata": {
        "id": "VXWRBs0TOR8P",
        "colab_type": "code",
        "colab": {
          "base_uri": "https://localhost:8080/"
        },
        "outputId": "502d4edf-c846-4092-af4e-fadfa2ab4915"
      },
      "cell_type": "code",
      "source": [
        "type(sample_list[0])"
      ],
      "execution_count": 29,
      "outputs": [
        {
          "output_type": "execute_result",
          "data": {
            "text/plain": [
              "int"
            ]
          },
          "metadata": {
            "tags": []
          },
          "execution_count": 29
        }
      ]
    },
    {
      "metadata": {
        "id": "4_EsXGSuOVoV",
        "colab_type": "code",
        "colab": {
          "base_uri": "https://localhost:8080/"
        },
        "outputId": "1721bbcd-1182-4bff-dfc2-83637157f919"
      },
      "cell_type": "code",
      "source": [
        "sample_list[2]"
      ],
      "execution_count": 30,
      "outputs": [
        {
          "output_type": "execute_result",
          "data": {
            "text/plain": [
              "3.14"
            ]
          },
          "metadata": {
            "tags": []
          },
          "execution_count": 30
        }
      ]
    },
    {
      "metadata": {
        "id": "7IvRNWrLOZjx",
        "colab_type": "code",
        "colab": {
          "base_uri": "https://localhost:8080/"
        },
        "outputId": "85721d37-94da-4ec7-8aa5-e46286512468"
      },
      "cell_type": "code",
      "source": [
        "type(sample_list[2])"
      ],
      "execution_count": 31,
      "outputs": [
        {
          "output_type": "execute_result",
          "data": {
            "text/plain": [
              "float"
            ]
          },
          "metadata": {
            "tags": []
          },
          "execution_count": 31
        }
      ]
    },
    {
      "metadata": {
        "id": "P5rFLgfbOd5N",
        "colab_type": "code",
        "colab": {
          "base_uri": "https://localhost:8080/"
        },
        "outputId": "216f047a-e77a-43bb-b5f2-fac37698c293"
      },
      "cell_type": "code",
      "source": [
        "sample_list[4] # accessing last element by index"
      ],
      "execution_count": 32,
      "outputs": [
        {
          "output_type": "execute_result",
          "data": {
            "text/plain": [
              "'Hello World'"
            ]
          },
          "metadata": {
            "tags": []
          },
          "execution_count": 32
        }
      ]
    },
    {
      "metadata": {
        "id": "b6_od9mwOxo3",
        "colab_type": "code",
        "colab": {
          "base_uri": "https://localhost:8080/"
        },
        "outputId": "b0b45fd3-2c95-4482-f10d-33ab7970967e"
      },
      "cell_type": "code",
      "source": [
        "sample_list[-1] #accessing last element "
      ],
      "execution_count": 33,
      "outputs": [
        {
          "output_type": "execute_result",
          "data": {
            "text/plain": [
              "'Hello World'"
            ]
          },
          "metadata": {
            "tags": []
          },
          "execution_count": 33
        }
      ]
    },
    {
      "metadata": {
        "id": "dlipjh-9Ohz2",
        "colab_type": "code",
        "colab": {
          "base_uri": "https://localhost:8080/"
        },
        "outputId": "3e2d3c86-2b23-4993-995a-acee2a0c1430"
      },
      "cell_type": "code",
      "source": [
        "type(sample_list[4])"
      ],
      "execution_count": 34,
      "outputs": [
        {
          "output_type": "execute_result",
          "data": {
            "text/plain": [
              "str"
            ]
          },
          "metadata": {
            "tags": []
          },
          "execution_count": 34
        }
      ]
    },
    {
      "metadata": {
        "id": "UBzHK09wO5RG",
        "colab_type": "code",
        "colab": {
          "base_uri": "https://localhost:8080/"
        },
        "outputId": "c05cda7b-db90-426e-f39f-241d2c13e6ff"
      },
      "cell_type": "code",
      "source": [
        "sample_list[0:2] # first two elements"
      ],
      "execution_count": 35,
      "outputs": [
        {
          "output_type": "execute_result",
          "data": {
            "text/plain": [
              "[5, 2]"
            ]
          },
          "metadata": {
            "tags": []
          },
          "execution_count": 35
        }
      ]
    },
    {
      "metadata": {
        "id": "9TpKIvxbPClq",
        "colab_type": "code",
        "colab": {
          "base_uri": "https://localhost:8080/"
        },
        "outputId": "42403eec-0117-43e3-d50a-aa7658b2c380"
      },
      "cell_type": "code",
      "source": [
        "print(sample_list)\n",
        "sample_list[-2:] # last two elements"
      ],
      "execution_count": 36,
      "outputs": [
        {
          "output_type": "stream",
          "text": [
            "[5, 2, 3.14, 1, 'Hello World']\n"
          ],
          "name": "stdout"
        },
        {
          "output_type": "execute_result",
          "data": {
            "text/plain": [
              "[1, 'Hello World']"
            ]
          },
          "metadata": {
            "tags": []
          },
          "execution_count": 36
        }
      ]
    },
    {
      "metadata": {
        "id": "Zf8FNA73P4IR",
        "colab_type": "code",
        "colab": {
          "base_uri": "https://localhost:8080/"
        },
        "outputId": "282606c3-50c8-4ff0-f8e0-a0e2ae60cd7b"
      },
      "cell_type": "code",
      "source": [
        "print(sample_list)\n",
        "sample_list[:3] # first  three elements"
      ],
      "execution_count": 37,
      "outputs": [
        {
          "output_type": "stream",
          "text": [
            "[5, 2, 3.14, 1, 'Hello World']\n"
          ],
          "name": "stdout"
        },
        {
          "output_type": "execute_result",
          "data": {
            "text/plain": [
              "[5, 2, 3.14]"
            ]
          },
          "metadata": {
            "tags": []
          },
          "execution_count": 37
        }
      ]
    },
    {
      "metadata": {
        "id": "fEJHU_8YQuyK",
        "colab_type": "code",
        "colab": {
          "base_uri": "https://localhost:8080/"
        },
        "outputId": "bfe4b127-aee5-42e6-eb1a-184b3e45bedb"
      },
      "cell_type": "code",
      "source": [
        "len(sample_list)  # length of list"
      ],
      "execution_count": 38,
      "outputs": [
        {
          "output_type": "execute_result",
          "data": {
            "text/plain": [
              "5"
            ]
          },
          "metadata": {
            "tags": []
          },
          "execution_count": 38
        }
      ]
    },
    {
      "metadata": {
        "id": "_U2GskXTQz2Y",
        "colab_type": "code",
        "colab": {}
      },
      "cell_type": "code",
      "source": [
        "sample_list2 =  sample_list  # when we call sample_list2 it refers sample_list"
      ],
      "execution_count": 0,
      "outputs": []
    },
    {
      "metadata": {
        "id": "7Knz0SS6RBz5",
        "colab_type": "code",
        "colab": {
          "base_uri": "https://localhost:8080/"
        },
        "outputId": "3aca73bd-7915-4208-d7b3-2252b2c25286"
      },
      "cell_type": "code",
      "source": [
        "print(\"sample_list is \" + str(sample_list))\n",
        "\n",
        "print(\"\")\n",
        "\n",
        "print(\"sample_list2 is \" + str(sample_list2))"
      ],
      "execution_count": 40,
      "outputs": [
        {
          "output_type": "stream",
          "text": [
            "sample_list is [5, 2, 3.14, 1, 'Hello World']\n",
            "\n",
            "sample_list2 is [5, 2, 3.14, 1, 'Hello World']\n"
          ],
          "name": "stdout"
        }
      ]
    },
    {
      "metadata": {
        "id": "tnXDhFEFRYaf",
        "colab_type": "code",
        "colab": {}
      },
      "cell_type": "code",
      "source": [
        "sample_list[0] = 5.5 # changing first index vaule"
      ],
      "execution_count": 0,
      "outputs": []
    },
    {
      "metadata": {
        "id": "9pQgKoRDRhU_",
        "colab_type": "code",
        "colab": {
          "base_uri": "https://localhost:8080/"
        },
        "outputId": "b63ba4e2-8a3f-49c4-c630-a25f84fc06b4"
      },
      "cell_type": "code",
      "source": [
        "# checking list values\n",
        "\n",
        "print(\"sample_list is \" + str(sample_list))\n",
        "\n",
        "print(\"\")\n",
        "\n",
        "print(\"sample_list2 is \" + str(sample_list2))"
      ],
      "execution_count": 42,
      "outputs": [
        {
          "output_type": "stream",
          "text": [
            "sample_list is [5.5, 2, 3.14, 1, 'Hello World']\n",
            "\n",
            "sample_list2 is [5.5, 2, 3.14, 1, 'Hello World']\n"
          ],
          "name": "stdout"
        }
      ]
    },
    {
      "metadata": {
        "id": "w99zmmKcR5Qt",
        "colab_type": "code",
        "colab": {}
      },
      "cell_type": "code",
      "source": [
        "# reassiging sample_list to sample_list2\n",
        "\n",
        "sample_list2 = list(sample_list)"
      ],
      "execution_count": 0,
      "outputs": []
    },
    {
      "metadata": {
        "id": "di6JZRAdSIMR",
        "colab_type": "code",
        "colab": {
          "base_uri": "https://localhost:8080/"
        },
        "outputId": "3253cba5-7500-4a23-8e43-cee85b2d4487"
      },
      "cell_type": "code",
      "source": [
        "# checking list values\n",
        "\n",
        "print(\"sample_list is \" + str(sample_list))\n",
        "\n",
        "print(\"\")\n",
        "\n",
        "print(\"sample_list2 is \" + str(sample_list2))"
      ],
      "execution_count": 44,
      "outputs": [
        {
          "output_type": "stream",
          "text": [
            "sample_list is [5.5, 2, 3.14, 1, 'Hello World']\n",
            "\n",
            "sample_list2 is [5.5, 2, 3.14, 1, 'Hello World']\n"
          ],
          "name": "stdout"
        }
      ]
    },
    {
      "metadata": {
        "id": "k3q8Z9RgSPq7",
        "colab_type": "code",
        "colab": {}
      },
      "cell_type": "code",
      "source": [
        "# updating list value\n",
        "sample_list[1] = 3"
      ],
      "execution_count": 0,
      "outputs": []
    },
    {
      "metadata": {
        "id": "0N0Uf_RGSZYe",
        "colab_type": "code",
        "colab": {
          "base_uri": "https://localhost:8080/"
        },
        "outputId": "02b69054-91b2-4bf5-a028-2903b2c0a880"
      },
      "cell_type": "code",
      "source": [
        "# checking list values\n",
        "\n",
        "print(\"sample_list is \" + str(sample_list))\n",
        "\n",
        "print(\"\")\n",
        "\n",
        "print(\"sample_list2 is \" + str(sample_list2)) # index 1 was not updated \n",
        "\n"
      ],
      "execution_count": 46,
      "outputs": [
        {
          "output_type": "stream",
          "text": [
            "sample_list is [5.5, 3, 3.14, 1, 'Hello World']\n",
            "\n",
            "sample_list2 is [5.5, 2, 3.14, 1, 'Hello World']\n"
          ],
          "name": "stdout"
        }
      ]
    },
    {
      "metadata": {
        "id": "XdmRySEFSjFa",
        "colab_type": "code",
        "colab": {}
      },
      "cell_type": "code",
      "source": [
        "# adding to list\n",
        "\n",
        "sample_list.append(10)"
      ],
      "execution_count": 0,
      "outputs": []
    },
    {
      "metadata": {
        "id": "TzUC8ZlxXzlD",
        "colab_type": "code",
        "colab": {
          "base_uri": "https://localhost:8080/"
        },
        "outputId": "d16c1e8a-533d-4ae6-b4ef-d927211c2106"
      },
      "cell_type": "code",
      "source": [
        "print(sample_list)"
      ],
      "execution_count": 48,
      "outputs": [
        {
          "output_type": "stream",
          "text": [
            "[5.5, 3, 3.14, 1, 'Hello World', 10]\n"
          ],
          "name": "stdout"
        }
      ]
    },
    {
      "metadata": {
        "id": "wnySG9KVX6ek",
        "colab_type": "code",
        "colab": {
          "base_uri": "https://localhost:8080/"
        },
        "outputId": "a6ccd6f5-16e7-46c2-d4c6-303d18a3a086"
      },
      "cell_type": "code",
      "source": [
        "for i in sample_list:\n",
        "  print(i)"
      ],
      "execution_count": 49,
      "outputs": [
        {
          "output_type": "stream",
          "text": [
            "5.5\n",
            "3\n",
            "3.14\n",
            "1\n",
            "Hello World\n",
            "10\n"
          ],
          "name": "stdout"
        }
      ]
    },
    {
      "metadata": {
        "id": "ERGXdEYLX_mJ",
        "colab_type": "code",
        "colab": {}
      },
      "cell_type": "code",
      "source": [
        "a = list(range(5))"
      ],
      "execution_count": 0,
      "outputs": []
    },
    {
      "metadata": {
        "id": "0PS7--W6YEw5",
        "colab_type": "code",
        "colab": {
          "base_uri": "https://localhost:8080/"
        },
        "outputId": "72348268-132a-4b46-b700-a04a6aec348a"
      },
      "cell_type": "code",
      "source": [
        "print(a)"
      ],
      "execution_count": 51,
      "outputs": [
        {
          "output_type": "stream",
          "text": [
            "[0, 1, 2, 3, 4]\n"
          ],
          "name": "stdout"
        }
      ]
    },
    {
      "metadata": {
        "id": "6NnDLWaqYG_P",
        "colab_type": "code",
        "colab": {}
      },
      "cell_type": "code",
      "source": [
        "b = [5, 5, 4]"
      ],
      "execution_count": 0,
      "outputs": []
    },
    {
      "metadata": {
        "id": "6vN6iUa2YKg2",
        "colab_type": "code",
        "colab": {}
      },
      "cell_type": "code",
      "source": [
        "#list addition\n",
        "\n",
        "c = a + b"
      ],
      "execution_count": 0,
      "outputs": []
    },
    {
      "metadata": {
        "id": "cfcu610UYOqk",
        "colab_type": "code",
        "colab": {
          "base_uri": "https://localhost:8080/"
        },
        "outputId": "6325b4a4-0531-4476-d8df-bca84b61c8d5"
      },
      "cell_type": "code",
      "source": [
        "print(c)"
      ],
      "execution_count": 54,
      "outputs": [
        {
          "output_type": "stream",
          "text": [
            "[0, 1, 2, 3, 4, 5, 5, 4]\n"
          ],
          "name": "stdout"
        }
      ]
    },
    {
      "metadata": {
        "id": "P6OlXIxmYRdK",
        "colab_type": "code",
        "colab": {}
      },
      "cell_type": "code",
      "source": [
        "# map function on list\n",
        "\n",
        "d = list(map(lambda x: x*2, a))"
      ],
      "execution_count": 0,
      "outputs": []
    },
    {
      "metadata": {
        "id": "bAdET2kXYmsp",
        "colab_type": "code",
        "colab": {
          "base_uri": "https://localhost:8080/"
        },
        "outputId": "35a57f9d-d35e-4bd7-8f33-0bd51591a6be"
      },
      "cell_type": "code",
      "source": [
        "print(d)"
      ],
      "execution_count": 56,
      "outputs": [
        {
          "output_type": "stream",
          "text": [
            "[0, 2, 4, 6, 8]\n"
          ],
          "name": "stdout"
        }
      ]
    },
    {
      "metadata": {
        "id": "HpIelDd0Y4jx",
        "colab_type": "code",
        "colab": {}
      },
      "cell_type": "code",
      "source": [
        "e = list(filter(lambda x: x%2 == 0, a))"
      ],
      "execution_count": 0,
      "outputs": []
    },
    {
      "metadata": {
        "id": "yLPU9p50ZFtn",
        "colab_type": "code",
        "colab": {
          "base_uri": "https://localhost:8080/"
        },
        "outputId": "d5db59b0-4d22-4ac3-c7e5-6bfc3cd6c06a"
      },
      "cell_type": "code",
      "source": [
        "print(e)"
      ],
      "execution_count": 58,
      "outputs": [
        {
          "output_type": "stream",
          "text": [
            "[0, 2, 4]\n"
          ],
          "name": "stdout"
        }
      ]
    }
  ]
}